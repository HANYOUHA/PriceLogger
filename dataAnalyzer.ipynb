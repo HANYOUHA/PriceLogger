{
 "cells": [
  {
   "cell_type": "code",
   "execution_count": 1,
   "metadata": {},
   "outputs": [],
   "source": [
    "%matplotlib inline\n",
    "import pandas as pd\n",
    "import matplotlib as mpl\n",
    "import matplotlib.pyplot as plt"
   ]
  },
  {
   "cell_type": "code",
   "execution_count": 2,
   "metadata": {},
   "outputs": [],
   "source": [
    "df = pd.read_csv(\"price_list.csv\", index_col=\"time\")"
   ]
  },
  {
   "cell_type": "code",
   "execution_count": 3,
   "metadata": {},
   "outputs": [
    {
     "data": {
      "text/html": [
       "<div>\n",
       "<style scoped>\n",
       "    .dataframe tbody tr th:only-of-type {\n",
       "        vertical-align: middle;\n",
       "    }\n",
       "\n",
       "    .dataframe tbody tr th {\n",
       "        vertical-align: top;\n",
       "    }\n",
       "\n",
       "    .dataframe thead th {\n",
       "        text-align: right;\n",
       "    }\n",
       "</style>\n",
       "<table border=\"1\" class=\"dataframe\">\n",
       "  <thead>\n",
       "    <tr style=\"text-align: right;\">\n",
       "      <th></th>\n",
       "      <th>oil</th>\n",
       "      <th>ore</th>\n",
       "      <th>uranium</th>\n",
       "      <th>diamonds</th>\n",
       "      <th>rivalium</th>\n",
       "    </tr>\n",
       "    <tr>\n",
       "      <th>time</th>\n",
       "      <th></th>\n",
       "      <th></th>\n",
       "      <th></th>\n",
       "      <th></th>\n",
       "      <th></th>\n",
       "    </tr>\n",
       "  </thead>\n",
       "  <tbody>\n",
       "    <tr>\n",
       "      <th>2020-09-26 04:23:09.769905</th>\n",
       "      <td>203</td>\n",
       "      <td>197</td>\n",
       "      <td>2400</td>\n",
       "      <td>1599000</td>\n",
       "      <td>169000</td>\n",
       "    </tr>\n",
       "    <tr>\n",
       "      <th>2020-09-26 04:24:43.029609</th>\n",
       "      <td>203</td>\n",
       "      <td>200</td>\n",
       "      <td>2399</td>\n",
       "      <td>1599000</td>\n",
       "      <td>169000</td>\n",
       "    </tr>\n",
       "    <tr>\n",
       "      <th>2020-09-26 04:29:53.925363</th>\n",
       "      <td>201</td>\n",
       "      <td>200</td>\n",
       "      <td>2399</td>\n",
       "      <td>1599000</td>\n",
       "      <td>169000</td>\n",
       "    </tr>\n",
       "    <tr>\n",
       "      <th>2020-09-26 04:30:28.102185</th>\n",
       "      <td>201</td>\n",
       "      <td>200</td>\n",
       "      <td>2399</td>\n",
       "      <td>1599000</td>\n",
       "      <td>169000</td>\n",
       "    </tr>\n",
       "    <tr>\n",
       "      <th>2020-09-26 04:31:07.842501</th>\n",
       "      <td>200</td>\n",
       "      <td>199</td>\n",
       "      <td>2399</td>\n",
       "      <td>1599000</td>\n",
       "      <td>169000</td>\n",
       "    </tr>\n",
       "    <tr>\n",
       "      <th>2020-09-26 04:31:57.150102</th>\n",
       "      <td>203</td>\n",
       "      <td>199</td>\n",
       "      <td>2400</td>\n",
       "      <td>1599000</td>\n",
       "      <td>169000</td>\n",
       "    </tr>\n",
       "    <tr>\n",
       "      <th>2020-09-26 04:35:02.992465</th>\n",
       "      <td>201</td>\n",
       "      <td>199</td>\n",
       "      <td>2400</td>\n",
       "      <td>1599000</td>\n",
       "      <td>168999</td>\n",
       "    </tr>\n",
       "  </tbody>\n",
       "</table>\n",
       "</div>"
      ],
      "text/plain": [
       "                            oil  ore  uranium  diamonds  rivalium\n",
       "time                                                             \n",
       "2020-09-26 04:23:09.769905  203  197     2400   1599000    169000\n",
       "2020-09-26 04:24:43.029609  203  200     2399   1599000    169000\n",
       "2020-09-26 04:29:53.925363  201  200     2399   1599000    169000\n",
       "2020-09-26 04:30:28.102185  201  200     2399   1599000    169000\n",
       "2020-09-26 04:31:07.842501  200  199     2399   1599000    169000\n",
       "2020-09-26 04:31:57.150102  203  199     2400   1599000    169000\n",
       "2020-09-26 04:35:02.992465  201  199     2400   1599000    168999"
      ]
     },
     "execution_count": 3,
     "metadata": {},
     "output_type": "execute_result"
    }
   ],
   "source": [
    "df"
   ]
  },
  {
   "cell_type": "code",
   "execution_count": 4,
   "metadata": {},
   "outputs": [],
   "source": [
    "df = df[df.columns[:-2]]"
   ]
  },
  {
   "cell_type": "code",
   "execution_count": 5,
   "metadata": {},
   "outputs": [],
   "source": [
    "mpl.rc('font', family=\"D2Coding\")"
   ]
  },
  {
   "cell_type": "code",
   "execution_count": 6,
   "metadata": {},
   "outputs": [
    {
     "data": {
      "image/png": "[encoded data removed]",
      "text/plain": [
       "<Figure size 864x432 with 1 Axes>"
      ]
     },
     "metadata": {
      "needs_background": "light"
     },
     "output_type": "display_data"
    }
   ],
   "source": [
    "# 차트 종류, 제목, 차트 크기, 범례, 폰트 크기 설정\n",
    "ax = df.plot(kind='bar', title='가격추세', figsize=(12, 6), legend=True, fontsize=12)\n",
    "ax.set_xlabel('시간', fontsize=12)          # x축 정보 표시\n",
    "ax.set_ylabel('가격 $', fontsize=12)     # y축 정보 표시\n",
    "ax.legend(\n",
    "    df.columns,\n",
    "    fontsize=12\n",
    ")    # 범례 지정\n",
    "ax.tick_params(axis='x', rotation=30)"
   ]
  },
  {
   "cell_type": "code",
   "execution_count": null,
   "metadata": {},
   "outputs": [],
   "source": []
  }
 ],
 "metadata": {
  "kernelspec": {
   "display_name": "Python 3",
   "language": "python",
   "name": "python3"
  },
  "language_info": {
   "codemirror_mode": {
    "name": "ipython",
    "version": 3
   },
   "file_extension": ".py",
   "mimetype": "text/x-python",
   "name": "python",
   "nbconvert_exporter": "python",
   "pygments_lexer": "ipython3",
   "version": "3.7.3"
  }
 },
 "nbformat": 4,
 "nbformat_minor": 2
}
