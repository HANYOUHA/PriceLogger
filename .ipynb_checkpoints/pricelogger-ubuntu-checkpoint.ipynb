{
 "cells": [
  {
   "cell_type": "code",
   "execution_count": 1,
   "metadata": {
    "tags": []
   },
   "outputs": [],
   "source": [
    "# -*- coding: utf-8 -*-\n",
    "from selenium import webdriver\n",
    "from selenium.webdriver.chrome.options import Options\n",
    "from selenium.webdriver.common.by import By\n",
    "from selenium.webdriver.common.keys import Keys\n",
    "from selenium.webdriver.support.ui import Select\n",
    "from selenium.common.exceptions import NoSuchElementException\n",
    "from selenium.common.exceptions import NoAlertPresentException\n",
    "import unittest, time, re\n",
    "import csv\n",
    "import datetime\n",
    "import requests\n",
    "from bs4 import BeautifulSoup\n",
    "import pandas as pd\n",
    "import numpy as np\n",
    "import time"
   ]
  },
  {
   "cell_type": "code",
   "execution_count": 45,
   "metadata": {},
   "outputs": [],
   "source": [
    "chrome_options = Options()\n",
    "chrome_options.add_experimental_option(\"debuggerAddress\", \"localhost:9222\")\n",
    "chrome_driver = \"/home/kimjadong2020/Documents/chromedriver\"\n",
    "driver = webdriver.Chrome(chrome_driver, options=chrome_options)"
   ]
  },
  {
   "cell_type": "code",
   "execution_count": 43,
   "metadata": {},
   "outputs": [],
   "source": [
    "def refillGold():\n",
    "    url = \"https://rivalregions.com/#parliament/offer\"\n",
    "    driver.get(url)\n",
    "    driver.refresh()\n",
    "    time.sleep(5)\n",
    "    driver.find_element_by_xpath(\"//div[@id='offer_dd']/div/div/div\").click()\n",
    "    time.sleep(4)\n",
    "    driver.find_element_by_link_text(\"Resources exploration: state\").click()\n",
    "    driver.find_element_by_id(\"offer_do\").click()\n",
    "    \n",
    "def goldRefiiler(): # 금 채우기 검사 및 실행\n",
    "    url = \"https://rivalregions.com/#listed/stateresources/3330\"\n",
    "    driver.get(url)\n",
    "    driver.refresh()\n",
    "    time.sleep(3)\n",
    "\n",
    "    tempList = []\n",
    "    gold_reserve = driver.find_elements_by_class_name(\"list_level\")\n",
    "    for element in gold_reserve:\n",
    "        tempList.append(float(element.text))\n",
    "\n",
    "    array_gold = np.array(tempList).reshape(-1, 4)\n",
    "\n",
    "    df_gold = pd.DataFrame(\n",
    "        array_gold, \n",
    "       columns=[\"Explored\", \"Maximum\", \"Deep_exploration\", \"Limit_left\"]\n",
    "    )\n",
    "\n",
    "    str_expr = \"Limit_left > 0 and Explored < Maximum - 50\"\n",
    "    df_q = df_gold.query(str_expr) \n",
    "\n",
    "    if df_q.empty:\n",
    "        print(\"채우지 않음\")\n",
    "        return False\n",
    "    else:\n",
    "        print(\"do refill\")\n",
    "        refillGold()\n",
    "        return True"
   ]
  },
  {
   "cell_type": "code",
   "execution_count": 3,
   "metadata": {},
   "outputs": [],
   "source": [
    "def budgetCheck():\n",
    "    url = \"https://rivalregions.com/#state/details/3330\"\n",
    "    driver.get(url)\n",
    "    driver.refresh()\n",
    "    time.sleep(4)\n",
    "\n",
    "    itemList = []\n",
    "\n",
    "    budgetList = driver.find_element_by_css_selector(\n",
    "        \"#header_slide_inner > div.minwidth > div.slide_profile_photo > div.imp\").find_elements_by_class_name(\"tip\")\n",
    "\n",
    "    for i in budgetList:\n",
    "        item = int(i.text.split(\" \")[0].replace(\".\",\"\"))\n",
    "        itemList.append(item)\n",
    "\n",
    "    df = pd.DataFrame(\n",
    "        np.array(itemList).reshape(1, 6), \n",
    "        columns=[\"cash\", \"gold\", \"oil\", \"ore\", \"uranium\", \"diamond\"]\n",
    "    ).T\n",
    "    return df"
   ]
  },
  {
   "cell_type": "code",
   "execution_count": 30,
   "metadata": {},
   "outputs": [],
   "source": [
    "def priceLoging (numList):\n",
    "    priceList = []\n",
    "    now = str( datetime.datetime.now() )\n",
    "    priceList.append(now)\n",
    "    \n",
    "    for num in numList:\n",
    "        s_xpath = \"//div[@url='\"+ str(num) +\"']\"\n",
    "        driver.find_element_by_xpath( s_xpath ).click() # 자원 클릭\n",
    "        time.sleep(3.5)\n",
    "        element_price = driver.find_element_by_xpath(\"/html/body/div[6]/div[1]/div[1]/div[2]/div[1]/div[3]/span/span\")\n",
    "        time.sleep(2)\n",
    "        price = int(element_price.text.split(\" \")[0].replace(\".\",\"\"))\n",
    "        priceList.append(price)\n",
    "        \n",
    "        \n",
    "    with open(\"price_list.csv\", \"a\", newline='') as f:\n",
    "        writer = csv.writer(f)\n",
    "        writer.writerow( priceList )"
   ]
  },
  {
   "cell_type": "code",
   "execution_count": 5,
   "metadata": {},
   "outputs": [],
   "source": [
    "def getURL(url):\n",
    "    driver.get(url)\n",
    "    driver.implicitly_wait(50)\n",
    "    driver.refresh()"
   ]
  },
  {
   "cell_type": "code",
   "execution_count": 6,
   "metadata": {},
   "outputs": [],
   "source": [
    "getURL(\"https://rivalregions.com/#overview\")"
   ]
  },
  {
   "cell_type": "code",
   "execution_count": 7,
   "metadata": {},
   "outputs": [],
   "source": [
    "itemList = [3, 4, 11, 15, 26] # 석유 광물 우라늄 다이아 라이벌륨"
   ]
  },
  {
   "cell_type": "code",
   "execution_count": 16,
   "metadata": {},
   "outputs": [],
   "source": [
    "def train():\n",
    "    # war train\n",
    "    getURL(\"https://rivalregions.com/#war\")\n",
    "    driver.find_element_by_xpath(\"//div[@id='content']/div[4]/div[2]/div\").click()\n",
    "    driver.find_element_by_id(\"war_my_alpha\").click()\n",
    "    driver.refresh()\n",
    "    driver.find_element_by_id(\"header_my_fill_bar\").click()    \n",
    "    driver.find_element_by_id(\"war_my_alpha\").click()\n",
    "    \n",
    "def work():    \n",
    "    getURL(\"https://rivalregions.com/#work\")\n",
    "    xpath = \"//*[@id='content']/div[6]/div[2]/div[2]/div[3]/div[1]/span/span[1]\"\n",
    "    driver.find_element_by_xpath(xpath).click()\n",
    "    driver.find_element_by_id(\"header_my_fill_bar\").click()\n",
    "    driver.refresh()\n",
    "    driver.find_element_by_xpath(xpath).click()\n",
    "\n",
    "def controller():   \n",
    "    # price logging\n",
    "    getURL(\"https://rivalregions.com/#storage\")\n",
    "    priceLoging(itemList)    \n",
    "    work()    "
   ]
  },
  {
   "cell_type": "code",
   "execution_count": 44,
   "metadata": {
    "collapsed": true
   },
   "outputs": [
    {
     "name": "stdout",
     "output_type": "stream",
     "text": [
      "채우지 않음\n"
     ]
    },
    {
     "ename": "KeyboardInterrupt",
     "evalue": "",
     "output_type": "error",
     "traceback": [
      "\u001b[0;31m---------------------------------------------------------------------------\u001b[0m",
      "\u001b[0;31mKeyboardInterrupt\u001b[0m                         Traceback (most recent call last)",
      "\u001b[0;32m<ipython-input-44-23946435c6cb>\u001b[0m in \u001b[0;36m<module>\u001b[0;34m\u001b[0m\n\u001b[1;32m      4\u001b[0m     \u001b[0;32mfor\u001b[0m \u001b[0mj\u001b[0m \u001b[0;32min\u001b[0m \u001b[0mrange\u001b[0m\u001b[0;34m(\u001b[0m\u001b[0;36m5\u001b[0m\u001b[0;34m)\u001b[0m\u001b[0;34m:\u001b[0m\u001b[0;34m\u001b[0m\u001b[0;34m\u001b[0m\u001b[0m\n\u001b[1;32m      5\u001b[0m         \u001b[0mcontroller\u001b[0m\u001b[0;34m(\u001b[0m\u001b[0;34m)\u001b[0m\u001b[0;34m\u001b[0m\u001b[0;34m\u001b[0m\u001b[0m\n\u001b[0;32m----> 6\u001b[0;31m         \u001b[0mtime\u001b[0m\u001b[0;34m.\u001b[0m\u001b[0msleep\u001b[0m\u001b[0;34m(\u001b[0m\u001b[0;36m590\u001b[0m\u001b[0;34m)\u001b[0m\u001b[0;34m\u001b[0m\u001b[0;34m\u001b[0m\u001b[0m\n\u001b[0m",
      "\u001b[0;31mKeyboardInterrupt\u001b[0m: "
     ]
    }
   ],
   "source": [
    "# control plane\n",
    "for i in range(24):\n",
    "    goldRefillPresident()\n",
    "    for j in range(5):\n",
    "        controller()\n",
    "        time.sleep(590)"
   ]
  },
  {
   "cell_type": "code",
   "execution_count": 31,
   "metadata": {},
   "outputs": [],
   "source": [
    "controller()"
   ]
  },
  {
   "cell_type": "code",
   "execution_count": 20,
   "metadata": {},
   "outputs": [
    {
     "name": "stdout",
     "output_type": "stream",
     "text": [
      "do refill\n"
     ]
    }
   ],
   "source": [
    "# check budget and refill gold\n",
    "goldRefiiler()"
   ]
  },
  {
   "cell_type": "code",
   "execution_count": 42,
   "metadata": {},
   "outputs": [],
   "source": [
    "def goldRefillPresident():\n",
    "    if (goldRefiiler()):\n",
    "        # Pro bill\n",
    "        driver.find_element_by_xpath(\"//*[contains(text(), 'Resources exploration')]\").click()\n",
    "        driver.find_element_by_xpath(\"//*[@id='offer_show_v']/div[5]/div\").click()"
   ]
  },
  {
   "cell_type": "code",
   "execution_count": 11,
   "metadata": {},
   "outputs": [],
   "source": [
    "# csv HEADER\n",
    "with open(\"price_list.csv\", \"w\", newline='') as f:\n",
    "    writer = csv.writer(f)\n",
    "    column = [\"time\", \"oil\", \"ore\", \"uranium\", \"diamonds\", \"rivalium\"]\n",
    "    writer.writerow( column )"
   ]
  },
  {
   "cell_type": "code",
   "execution_count": 125,
   "metadata": {},
   "outputs": [
    {
     "name": "stdout",
     "output_type": "stream",
     "text": [
      "169990\n"
     ]
    }
   ],
   "source": [
    "s_xpath = \"//div[@url='26']\"\n",
    "driver.find_element_by_xpath( s_xpath ).click() # 자원 클릭\n",
    "element_price = driver.find_element_by_xpath(\"/html/body/div[6]/div[1]/div[1]/div[2]/div[1]/div[3]/span/span\")\n",
    "price = int(element_price.text.split(' ')[0].replace(\".\",\"\"))        \n",
    "print(price)"
   ]
  },
  {
   "cell_type": "code",
   "execution_count": null,
   "metadata": {},
   "outputs": [],
   "source": [
    "# 군사학교\n",
    "selector = \"#quests_wrap > div.tip.hov.pointer.quest_have_perk_ma\"\n",
    "\n",
    "driver.find_element_by_css_selector(selector).click()\n",
    "\n",
    "driver.find_element_by_xpath(\"//div[@id='quests_wrap']/div\").click()"
   ]
  },
  {
   "cell_type": "code",
   "execution_count": null,
   "metadata": {},
   "outputs": [],
   "source": [
    "# check budget and refill gold\n",
    "df_previous_budget = budgetCheck()\n",
    "goldRefiiler()\n",
    "df_budget = budgetCheck()\n",
    "df_diff = df_budget - df_previous_budget"
   ]
  },
  {
   "cell_type": "code",
   "execution_count": 116,
   "metadata": {
    "scrolled": false
   },
   "outputs": [],
   "source": [
    "print(df_diff)"
   ]
  },
  {
   "cell_type": "code",
   "execution_count": 16,
   "metadata": {},
   "outputs": [
    {
     "data": {
      "text/html": [
       "<div>\n",
       "<style scoped>\n",
       "    .dataframe tbody tr th:only-of-type {\n",
       "        vertical-align: middle;\n",
       "    }\n",
       "\n",
       "    .dataframe tbody tr th {\n",
       "        vertical-align: top;\n",
       "    }\n",
       "\n",
       "    .dataframe thead th {\n",
       "        text-align: right;\n",
       "    }\n",
       "</style>\n",
       "<table border=\"1\" class=\"dataframe\">\n",
       "  <thead>\n",
       "    <tr style=\"text-align: right;\">\n",
       "      <th></th>\n",
       "      <th>0</th>\n",
       "    </tr>\n",
       "  </thead>\n",
       "  <tbody>\n",
       "    <tr>\n",
       "      <th>cash</th>\n",
       "      <td>0</td>\n",
       "    </tr>\n",
       "    <tr>\n",
       "      <th>gold</th>\n",
       "      <td>0</td>\n",
       "    </tr>\n",
       "    <tr>\n",
       "      <th>oil</th>\n",
       "      <td>0</td>\n",
       "    </tr>\n",
       "    <tr>\n",
       "      <th>ore</th>\n",
       "      <td>0</td>\n",
       "    </tr>\n",
       "    <tr>\n",
       "      <th>uranium</th>\n",
       "      <td>0</td>\n",
       "    </tr>\n",
       "    <tr>\n",
       "      <th>diamond</th>\n",
       "      <td>0</td>\n",
       "    </tr>\n",
       "  </tbody>\n",
       "</table>\n",
       "</div>"
      ],
      "text/plain": [
       "         0\n",
       "cash     0\n",
       "gold     0\n",
       "oil      0\n",
       "ore      0\n",
       "uranium  0\n",
       "diamond  0"
      ]
     },
     "execution_count": 16,
     "metadata": {},
     "output_type": "execute_result"
    }
   ],
   "source": [
    "df_diff"
   ]
  },
  {
   "cell_type": "code",
   "execution_count": 121,
   "metadata": {
    "scrolled": true
   },
   "outputs": [
    {
     "data": {
      "text/html": [
       "<div>\n",
       "<style scoped>\n",
       "    .dataframe tbody tr th:only-of-type {\n",
       "        vertical-align: middle;\n",
       "    }\n",
       "\n",
       "    .dataframe tbody tr th {\n",
       "        vertical-align: top;\n",
       "    }\n",
       "\n",
       "    .dataframe thead th {\n",
       "        text-align: right;\n",
       "    }\n",
       "</style>\n",
       "<table border=\"1\" class=\"dataframe\">\n",
       "  <thead>\n",
       "    <tr style=\"text-align: right;\">\n",
       "      <th></th>\n",
       "      <th>0</th>\n",
       "    </tr>\n",
       "  </thead>\n",
       "  <tbody>\n",
       "    <tr>\n",
       "      <th>cash</th>\n",
       "      <td>138386499</td>\n",
       "    </tr>\n",
       "    <tr>\n",
       "      <th>gold</th>\n",
       "      <td>213539386</td>\n",
       "    </tr>\n",
       "    <tr>\n",
       "      <th>oil</th>\n",
       "      <td>0</td>\n",
       "    </tr>\n",
       "    <tr>\n",
       "      <th>ore</th>\n",
       "      <td>0</td>\n",
       "    </tr>\n",
       "    <tr>\n",
       "      <th>uranium</th>\n",
       "      <td>0</td>\n",
       "    </tr>\n",
       "    <tr>\n",
       "      <th>diamond</th>\n",
       "      <td>0</td>\n",
       "    </tr>\n",
       "  </tbody>\n",
       "</table>\n",
       "</div>"
      ],
      "text/plain": [
       "                 0\n",
       "cash     138386499\n",
       "gold     213539386\n",
       "oil              0\n",
       "ore              0\n",
       "uranium          0\n",
       "diamond          0"
      ]
     },
     "execution_count": 121,
     "metadata": {},
     "output_type": "execute_result"
    }
   ],
   "source": [
    "df2_diff"
   ]
  },
  {
   "cell_type": "code",
   "execution_count": 34,
   "metadata": {},
   "outputs": [],
   "source": [
    "# 홈 버튼\n",
    "driver.find_element_by_class_name(\"header_logo_inner\").click()"
   ]
  },
  {
   "cell_type": "markdown",
   "metadata": {},
   "source": [
    "driver = webdriver.Chrome()"
   ]
  },
  {
   "cell_type": "code",
   "execution_count": 8,
   "metadata": {},
   "outputs": [
    {
     "name": "stdout",
     "output_type": "stream",
     "text": [
      "총 재산 : 658.487.849\n",
      "658487849\n"
     ]
    }
   ],
   "source": [
    "# 총 재산 체크\n",
    "money = driver.find_element_by_xpath(\"/html/body/div[5]/div[1]/div[1]/div[4]/span[1]/span\").text\n",
    "print(f\"총 재산 : {money}\")\n",
    "print(money.replace(\".\",\"\",4))"
   ]
  },
  {
   "cell_type": "code",
   "execution_count": 22,
   "metadata": {},
   "outputs": [],
   "source": [
    "req = requests.get(url)"
   ]
  },
  {
   "cell_type": "code",
   "execution_count": 23,
   "metadata": {},
   "outputs": [],
   "source": [
    "html = req.text"
   ]
  },
  {
   "cell_type": "code",
   "execution_count": 24,
   "metadata": {},
   "outputs": [],
   "source": [
    "with open(\"test.html\", \"w\", newline='', encoding=\"utf-8\") as f:\n",
    "    f.write( html )"
   ]
  },
  {
   "cell_type": "code",
   "execution_count": null,
   "metadata": {},
   "outputs": [],
   "source": []
  }
 ],
 "metadata": {
  "kernelspec": {
   "display_name": "Python 3",
   "language": "python",
   "name": "python3"
  },
  "language_info": {
   "codemirror_mode": {
    "name": "ipython",
    "version": 3
   },
   "file_extension": ".py",
   "mimetype": "text/x-python",
   "name": "python",
   "nbconvert_exporter": "python",
   "pygments_lexer": "ipython3",
   "version": "3.8.3"
  }
 },
 "nbformat": 4,
 "nbformat_minor": 2
}
