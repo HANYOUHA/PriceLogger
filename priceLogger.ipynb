{
 "cells": [
  {
   "cell_type": "code",
   "execution_count": 1,
   "metadata": {
    "tags": []
   },
   "outputs": [],
   "source": [
    "# -*- coding: utf-8 -*-\n",
    "from selenium import webdriver\n",
    "from selenium.webdriver.chrome.options import Options\n",
    "from selenium.webdriver.common.by import By\n",
    "from selenium.webdriver.common.keys import Keys\n",
    "from selenium.webdriver.support.ui import Select\n",
    "from selenium.common.exceptions import NoSuchElementException\n",
    "from selenium.common.exceptions import NoAlertPresentException\n",
    "import unittest, time, re\n",
    "import csv\n",
    "import datetime\n",
    "import requests\n",
    "from bs4 import BeautifulSoup\n",
    "import pandas as pd\n",
    "import numpy as np\n",
    "import time"
   ]
  },
  {
   "cell_type": "markdown",
   "metadata": {},
   "source": [
    "#### 크롬 경로에서 cmd로 다음 실행\n",
    "chrome.exe --remote-debugging-port=9222 --user-data-dir=\"E:\\ChromeTemp\""
   ]
  },
  {
   "cell_type": "code",
   "execution_count": 2,
   "metadata": {},
   "outputs": [],
   "source": [
    "chrome_options = Options()\n",
    "chrome_options.add_experimental_option(\"debuggerAddress\", \"localhost:9222\")\n",
    "chrome_driver = \"E:/chromedriver/chromedriver.exe\"\n",
    "driver = webdriver.Chrome(chrome_driver, options=chrome_options)"
   ]
  },
  {
   "cell_type": "code",
   "execution_count": 14,
   "metadata": {},
   "outputs": [],
   "source": [
    "driver.implicitly_wait(30)"
   ]
  },
  {
   "cell_type": "code",
   "execution_count": 4,
   "metadata": {},
   "outputs": [],
   "source": [
    "#\"https://accounts.google.com/o/oauth2/v2/auth/identifier?client_id=744908910548-j830dbmnnjs6kmro0u04eno1j1mbhnnn.apps.googleusercontent.com&response_type=code&scope=profile&redirect_uri=https%3A%2F%2Frivalregions.com%2Frival%2Fgoogles&state=8d2915a09674341eb422f937714dc67b&flowName=GeneralOAuthFlow\"\n",
    "url= \"https://rivalregions.com/#overview\"\n",
    "driver.get(url)"
   ]
  },
  {
   "cell_type": "code",
   "execution_count": null,
   "metadata": {},
   "outputs": [],
   "source": [
    "# training war\n",
    "driver.get(\"https://rivalregions.com/#overview\")\n",
    "driver.find_element_by_xpath(\"//div[@action='war']\").click()\n",
    "driver.find_element_by_xpath(\"//div[@id='content']/div[4]/div[2]/div\").click()\n",
    "driver.find_element_by_xpath(\"//div[@id='send_b_wrap']/div[4]\").click()\n",
    "driver.find_element_by_class_name(\"header_logo_inner\").click()"
   ]
  },
  {
   "cell_type": "code",
   "execution_count": 34,
   "metadata": {},
   "outputs": [],
   "source": [
    "# 홈 버튼\n",
    "driver.find_element_by_class_name(\"header_logo_inner\").click()"
   ]
  },
  {
   "cell_type": "markdown",
   "metadata": {},
   "source": [
    "driver = webdriver.Chrome()"
   ]
  },
  {
   "cell_type": "code",
   "execution_count": 5,
   "metadata": {},
   "outputs": [],
   "source": [
    "def goStorage():\n",
    "    url=\"https://rivalregions.com/#storage\"\n",
    "    driver.get(url)\n",
    "    driver.implicitly_wait(30)\n",
    "    driver.refresh()"
   ]
  },
  {
   "cell_type": "code",
   "execution_count": 6,
   "metadata": {},
   "outputs": [],
   "source": [
    "goStorage()"
   ]
  },
  {
   "cell_type": "code",
   "execution_count": 66,
   "metadata": {},
   "outputs": [
    {
     "name": "stdout",
     "output_type": "stream",
     "text": [
      "총 재산 : 154.765.407.743\n",
      "154765407743\n"
     ]
    }
   ],
   "source": [
    "# 총 재산 체크\n",
    "money = driver.find_element_by_xpath(\"/html/body/div[5]/div[1]/div[1]/div[4]/span[1]/span\").text\n",
    "print(f\"총 재산 : {money}\")\n",
    "print(money.replace(\".\",\"\",4))"
   ]
  },
  {
   "cell_type": "code",
   "execution_count": 57,
   "metadata": {},
   "outputs": [],
   "source": [
    "def csvAppend (priceList):\n",
    "    with open(\"price_list.csv\", \"a\", newline='') as f:\n",
    "        writer = csv.writer(f)\n",
    "        writer.writerow( priceList )"
   ]
  },
  {
   "cell_type": "code",
   "execution_count": 59,
   "metadata": {},
   "outputs": [],
   "source": [
    "def priceLoging (numList):\n",
    "    priceList = []\n",
    "    now = str( datetime.datetime.now() )\n",
    "    priceList.append(now)\n",
    "    \n",
    "    for num in numList:\n",
    "        s_xpath = \"//div[@url='\"+ str(num) +\"']\"\n",
    "        driver.find_element_by_xpath( s_xpath ).click() # 자원 클릭\n",
    "        time.sleep(2)\n",
    "        element_price = driver.find_element_by_xpath(\"/html/body/div[6]/div[1]/div[1]/div[2]/div[1]/div[3]/span/span\")\n",
    "        price = int(element_price.text.split(\" \")[0].replace(\".\",\"\"))\n",
    "        priceList.append(price)\n",
    "        \n",
    "    csvAppend( priceList )"
   ]
  },
  {
   "cell_type": "code",
   "execution_count": 58,
   "metadata": {},
   "outputs": [],
   "source": [
    "itemList = [3, 4, 11, 15, 26] # 석유 광물 우라늄 다이아 라이벌륨"
   ]
  },
  {
   "cell_type": "code",
   "execution_count": 60,
   "metadata": {},
   "outputs": [],
   "source": [
    "priceLoging(itemList)"
   ]
  },
  {
   "cell_type": "code",
   "execution_count": null,
   "metadata": {},
   "outputs": [],
   "source": []
  },
  {
   "cell_type": "code",
   "execution_count": 51,
   "metadata": {},
   "outputs": [],
   "source": [
    "with open(\"price_list.csv\", \"w\", newline='') as f:\n",
    "    writer = csv.writer(f)\n",
    "    column = [\"time\", \"oil\", \"ore\", \"uranium\", \"diamonds\", \"rivalium\"]\n",
    "    writer.writerow( column )"
   ]
  },
  {
   "cell_type": "code",
   "execution_count": 125,
   "metadata": {},
   "outputs": [
    {
     "name": "stdout",
     "output_type": "stream",
     "text": [
      "169990\n"
     ]
    }
   ],
   "source": [
    "s_xpath = \"//div[@url='26']\"\n",
    "driver.find_element_by_xpath( s_xpath ).click() # 자원 클릭\n",
    "element_price = driver.find_element_by_xpath(\"/html/body/div[6]/div[1]/div[1]/div[2]/div[1]/div[3]/span/span\")\n",
    "price = int(element_price.text.split(' ')[0].replace(\".\",\"\"))        \n",
    "print(price)"
   ]
  },
  {
   "cell_type": "code",
   "execution_count": null,
   "metadata": {},
   "outputs": [],
   "source": [
    "# 군사학교\n",
    "driver.find_element_by_xpath(\"//div[@id='quests_wrap']/div\").click()\n",
    "driver.find_element_by_xpath(\"//div[@id='content']/div[5]/div\").click()\n",
    "driver.find_element_by_xpath(\"//div[@id='header_slide_inner']/div[3]/div[2]\").click()\n",
    "driver.find_element_by_id(\"slide_close\").click()"
   ]
  },
  {
   "cell_type": "code",
   "execution_count": 153,
   "metadata": {},
   "outputs": [],
   "source": [
    "def refillGold():\n",
    "    url = \"https://rivalregions.com/#parliament/offer\"\n",
    "    driver.get(url)\n",
    "    driver.refresh()\n",
    "    time.sleep(4)\n",
    "    driver.find_element_by_xpath(\"//div[@id='offer_dd']/div/div/div\").click()\n",
    "    time.sleep(1)\n",
    "    driver.find_element_by_link_text(\"Resources exploration: state\").click()\n",
    "    driver.find_element_by_id(\"offer_do\").click()"
   ]
  },
  {
   "cell_type": "code",
   "execution_count": 154,
   "metadata": {},
   "outputs": [],
   "source": [
    "def goldRefiiler(): # 금 채우기 검사 및 실행\n",
    "    url = \"https://rivalregions.com/#listed/stateresources/3330\"\n",
    "    driver.get(url)\n",
    "    driver.refresh()\n",
    "    time.sleep(4)\n",
    "\n",
    "    gold_reserve = driver.find_elements_by_class_name(\"list_level\")\n",
    "\n",
    "    tempList = []\n",
    "    for element in gold_reserve:\n",
    "        tempList.append(float(element.text))\n",
    "\n",
    "    array_gold = np.array(tempList).reshape(-1, 4)\n",
    "\n",
    "    df_gold = pd.DataFrame(\n",
    "        array_gold, \n",
    "       columns=[\"Explored\", \"Maximum\", \"Deep_exploration\", \"Limit_left\"]\n",
    "    )\n",
    "\n",
    "    str_expr = \"Limit_left > 0 and Explored < Maximum - 50\"\n",
    "    df_q = df_gold.query(str_expr) \n",
    "\n",
    "    if df_q.empty:\n",
    "        print(\"채우지 않음\")\n",
    "    else:\n",
    "        print(\"do refill\")\n",
    "        refillGold()"
   ]
  },
  {
   "cell_type": "code",
   "execution_count": 155,
   "metadata": {},
   "outputs": [
    {
     "name": "stdout",
     "output_type": "stream",
     "text": [
      "do refill\n"
     ]
    }
   ],
   "source": [
    "goldRefiiler()"
   ]
  },
  {
   "cell_type": "code",
   "execution_count": 22,
   "metadata": {},
   "outputs": [],
   "source": [
    "req = requests.get(url)"
   ]
  },
  {
   "cell_type": "code",
   "execution_count": 23,
   "metadata": {},
   "outputs": [],
   "source": [
    "html = req.text"
   ]
  },
  {
   "cell_type": "code",
   "execution_count": 24,
   "metadata": {},
   "outputs": [],
   "source": [
    "with open(\"test.html\", \"w\", newline='', encoding=\"utf-8\") as f:\n",
    "    f.write( html )"
   ]
  },
  {
   "cell_type": "code",
   "execution_count": null,
   "metadata": {},
   "outputs": [],
   "source": []
  }
 ],
 "metadata": {
  "kernelspec": {
   "display_name": "Python 3",
   "language": "python",
   "name": "python3"
  },
  "language_info": {
   "codemirror_mode": {
    "name": "ipython",
    "version": 3
   },
   "file_extension": ".py",
   "mimetype": "text/x-python",
   "name": "python",
   "nbconvert_exporter": "python",
   "pygments_lexer": "ipython3",
   "version": "3.7.3"
  }
 },
 "nbformat": 4,
 "nbformat_minor": 2
}
